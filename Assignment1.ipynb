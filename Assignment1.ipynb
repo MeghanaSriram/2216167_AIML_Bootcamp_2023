{
  "nbformat": 4,
  "nbformat_minor": 0,
  "metadata": {
    "colab": {
      "provenance": [],
      "authorship_tag": "ABX9TyO5FDTMFpqS1nPrLiOor8Rw",
      "include_colab_link": true
    },
    "kernelspec": {
      "name": "python3",
      "display_name": "Python 3"
    },
    "language_info": {
      "name": "python"
    }
  },
  "cells": [
    {
      "cell_type": "markdown",
      "metadata": {
        "id": "view-in-github",
        "colab_type": "text"
      },
      "source": [
        "<a href=\"https://colab.research.google.com/github/MeghanaSriram/2216167_AIML_Bootcamp_2023/blob/main/Assignment1.ipynb\" target=\"_parent\"><img src=\"https://colab.research.google.com/assets/colab-badge.svg\" alt=\"Open In Colab\"/></a>"
      ]
    },
    {
      "cell_type": "code",
      "execution_count": null,
      "metadata": {
        "colab": {
          "base_uri": "https://localhost:8080/"
        },
        "id": "t7-nOpZeeC-P",
        "outputId": "d39cfc5c-c659-4fd0-b6e4-a2fa9b512c74"
      },
      "outputs": [
        {
          "output_type": "stream",
          "name": "stdout",
          "text": [
            "h\n",
            "altdr twgoanhy nnaLm  \n",
            "HELLO, I AM LEARNING PYTHON ALONG WITH GRADSTELLAR\n",
            "hello, i am learning python along with gradstellar\n",
            "hello, I am Learning Python along with gradstellar\n",
            "hello, I am Learning Python along with gradstellar\n",
            "Hello, i am learning python along with gradstellar\n",
            "Hello, I Am Learning Python Along With Gradstellar\n",
            "['hello,', 'I', 'am', 'Learning', 'Python', 'along', 'with', 'gradstellar']\n",
            "False\n",
            "h-e-l-l-o-,- -I- -a-m- -L-e-a-r-n-i-n-g- -P-y-t-h-o-n- -a-l-o-n-g- -w-i-t-h- -g-r-a-d-s-t-e-l-l-a-r\n"
          ]
        }
      ],
      "source": [
        "#1 string methods\n",
        "\n",
        "s1=\"hello, I am Learning Python along with gradstellar\"\n",
        "\n",
        "print(s1[0])\n",
        "print(s1[::2][:2:-1])\n",
        "print(s1.upper())\n",
        "print(s1.lower())\n",
        "print(s1.rstrip())\n",
        "print(s1.lstrip())\n",
        "print(s1.capitalize())\n",
        "print(s1.title())\n",
        "print(s1.split(' '))\n",
        "print(s1.startswith(\"me\"))\n",
        "print(\"-\".join(s1))"
      ]
    },
    {
      "cell_type": "code",
      "source": [
        "#2 List Methods\n",
        "\n",
        "l1=[1,2.0,'meghana',[2,4,6],\"mellow\",\"meghana\",(8,10,11),{9,3,5},9*18]\n",
        "l2=[\"l2\",\"items\",100]\n",
        "\n",
        "print(l1)\n",
        "print(l1[::-1])\n",
        "print(l1[2][::-1])\n",
        "print(l1.remove(\"meghana\"),l1)\n",
        "print(l1.pop(4))\n",
        "print(l2)\n",
        "print(l2.clear(),l2)\n",
        "print(l2.insert(0,\"Damon\"),l2)\n",
        "print(l2.append(\"klaus\"),l2)\n",
        "print(l2)\n",
        "print(l2.insert(1,\"wednesday\"),l2)\n",
        "print(l1.extend(l1),l1)\n",
        "print(\"#\".join(l2))"
      ],
      "metadata": {
        "colab": {
          "base_uri": "https://localhost:8080/"
        },
        "id": "3tBKCQyQESDQ",
        "outputId": "0f315987-668e-412e-e9f4-6302f4c5e0fa"
      },
      "execution_count": null,
      "outputs": [
        {
          "output_type": "stream",
          "name": "stdout",
          "text": [
            "[1, 2.0, 'meghana', [2, 4, 6], 'mellow', 'meghana', (8, 10, 11), {9, 3, 5}, 162]\n",
            "[162, {9, 3, 5}, (8, 10, 11), 'meghana', 'mellow', [2, 4, 6], 'meghana', 2.0, 1]\n",
            "anahgem\n",
            "None [1, 2.0, [2, 4, 6], 'mellow', 'meghana', (8, 10, 11), {9, 3, 5}, 162]\n",
            "meghana\n",
            "['l2', 'items', 100]\n",
            "None []\n",
            "None ['Damon']\n",
            "None ['Damon', 'klaus']\n",
            "['Damon', 'klaus']\n",
            "None ['Damon', 'wednesday', 'klaus']\n",
            "None [1, 2.0, [2, 4, 6], 'mellow', (8, 10, 11), {9, 3, 5}, 162, 1, 2.0, [2, 4, 6], 'mellow', (8, 10, 11), {9, 3, 5}, 162]\n",
            "Damon#wednesday#klaus\n"
          ]
        }
      ]
    },
    {
      "cell_type": "code",
      "source": [
        "#3 tuple methods\n",
        "\n",
        "t1=(1,2.0,\"meghana\",[2,4,6],(9,7,5),\"meghana\")\n",
        "t2=(\"hello\",\"Iam\",\"learning\",\"python\")\n",
        "print(t1[::-1])\n",
        "print(t1)\n",
        "print(t1.count(\"meghana\"))\n",
        "print(t1.index([2,4,6]))\n",
        "print(\"--\".join(t2))\n",
        "#print(t1.append(\"Hello\")) ---tuples are immutable"
      ],
      "metadata": {
        "colab": {
          "base_uri": "https://localhost:8080/"
        },
        "id": "nqtIFHTPHW1M",
        "outputId": "97dbabea-ede5-493f-866c-1085c44ec02b"
      },
      "execution_count": null,
      "outputs": [
        {
          "output_type": "stream",
          "name": "stdout",
          "text": [
            "('meghana', (9, 7, 5), [2, 4, 6], 'meghana', 2.0, 1)\n",
            "(1, 2.0, 'meghana', [2, 4, 6], (9, 7, 5), 'meghana')\n",
            "2\n",
            "3\n",
            "hello--Iam--learning--python\n"
          ]
        }
      ]
    },
    {
      "cell_type": "code",
      "source": [
        "#4 Dictionary methods\n",
        "\n",
        "d1={\"Name\":\"meghana\", 1:'2',\"[1,2,3]\":(4,5,6),2.0:\"robo\",(9,8):\"ph\"} #list can't be key but tuple can\n",
        "print(d1)\n",
        "print(d1.fromkeys(\"Name\"))\n",
        "print(d1.get(\"1\"))\n",
        "print(d1.items())\n",
        "print(d1.keys())\n",
        "print(d1.pop(\"[1,2,3]\"))\n",
        "print(d1.update({\"up\":\"date\"}))\n",
        "print(d1.values())\n",
        "d2={\"1\":\"hello\",\"2\":\"world\",\"3\":[1,2,3]}\n",
        "print(\"#\".join(d2))"
      ],
      "metadata": {
        "colab": {
          "base_uri": "https://localhost:8080/"
        },
        "id": "S_ur22CjL9qY",
        "outputId": "c0b54c6f-397f-441c-a729-5352334c682e"
      },
      "execution_count": null,
      "outputs": [
        {
          "output_type": "stream",
          "name": "stdout",
          "text": [
            "{'Name': 'meghana', 1: '2', '[1,2,3]': (4, 5, 6), 2.0: 'robo', (9, 8): 'ph'}\n",
            "{'N': None, 'a': None, 'm': None, 'e': None}\n",
            "None\n",
            "dict_items([('Name', 'meghana'), (1, '2'), ('[1,2,3]', (4, 5, 6)), (2.0, 'robo'), ((9, 8), 'ph')])\n",
            "dict_keys(['Name', 1, '[1,2,3]', 2.0, (9, 8)])\n",
            "(4, 5, 6)\n",
            "None\n",
            "dict_values(['meghana', '2', 'robo', 'ph', 'date'])\n",
            "1#2#3\n"
          ]
        }
      ]
    },
    {
      "cell_type": "code",
      "source": [
        "#5 set methods\n",
        "\n",
        "a={18,2,83,\"hello\",(1,9,3),2.0,3.0,1} #list cannot be a set element\n",
        "b={2,\"hello\",19}\n",
        "print(a)\n",
        "print(a.add(\"meghana\"),a)\n",
        "print(a.difference(b))\n",
        "print(a.discard(18),a)\n",
        "print(a.intersection(b))\n",
        "print(a.isdisjoint(b))\n",
        "print(a.issubset(b))\n",
        "print(a.symmetric_difference(b))\n",
        "print(a.union(b))\n",
        "print(a.update(b),a)\n",
        "c={\"hello\",\"world\",\"!!!\"}\n",
        "print(\"%\".join(c))"
      ],
      "metadata": {
        "colab": {
          "base_uri": "https://localhost:8080/"
        },
        "id": "lV0b0SN9M1xm",
        "outputId": "9db2ce8d-e420-4172-a945-91b22c752079"
      },
      "execution_count": null,
      "outputs": [
        {
          "output_type": "stream",
          "name": "stdout",
          "text": [
            "{1, 2, 3.0, (1, 9, 3), 18, 83, 'hello'}\n",
            "None {1, 2, 3.0, 'meghana', (1, 9, 3), 18, 83, 'hello'}\n",
            "{1, 3.0, 'meghana', (1, 9, 3), 18, 83}\n",
            "None {1, 2, 3.0, 'meghana', (1, 9, 3), 83, 'hello'}\n",
            "{2, 'hello'}\n",
            "False\n",
            "False\n",
            "{1, 3.0, 'meghana', (1, 9, 3), 19, 83}\n",
            "{1, 2, 3.0, 'meghana', (1, 9, 3), 83, 19, 'hello'}\n",
            "None {1, 2, 3.0, 'meghana', (1, 9, 3), 83, 19, 'hello'}\n",
            "!!!%world%hello\n"
          ]
        }
      ]
    },
    {
      "cell_type": "code",
      "source": [
        "#6 decimal to Binary\n",
        "a=123\n",
        "print(bin(a))\n",
        "\n",
        "#Octal to hexadecimal\n",
        "x=0o42\n",
        "print(hex(x))\n"
      ],
      "metadata": {
        "colab": {
          "base_uri": "https://localhost:8080/"
        },
        "id": "_GoMNb0djBIg",
        "outputId": "0637f83b-bf15-45cf-f2e4-c17a829aecf0"
      },
      "execution_count": null,
      "outputs": [
        {
          "output_type": "stream",
          "name": "stdout",
          "text": [
            "0b1111011\n",
            "0x22\n"
          ]
        }
      ]
    },
    {
      "cell_type": "code",
      "source": [
        "#7 Arithmatic operators\n",
        "\n",
        "a=int(input(\"Enter first integer\"))\n",
        "b=int(input(\"Enter Second integer\"))\n",
        "\n",
        "print(a+b)\n",
        "print(a-b)\n",
        "print(a*b)\n",
        "print(a/b)\n",
        "print(a//b)\n",
        "print(a**b)"
      ],
      "metadata": {
        "colab": {
          "base_uri": "https://localhost:8080/"
        },
        "id": "dp8cYbLTmwbS",
        "outputId": "dfc3e04a-8f79-467f-e0fc-07ac7c50535c"
      },
      "execution_count": null,
      "outputs": [
        {
          "output_type": "stream",
          "name": "stdout",
          "text": [
            "Enter first integer10\n",
            "Enter Second integer3\n",
            "13\n",
            "7\n",
            "30\n",
            "3.3333333333333335\n",
            "3\n",
            "1000\n"
          ]
        }
      ]
    },
    {
      "cell_type": "code",
      "source": [
        "#8 assignment operators\n",
        "a=int(input(\"Enter first integer\"))\n",
        "b=int(input(\"Enter Second integer\"))\n",
        "\n",
        "c=a+b \n",
        "print(c)\n",
        "c-=a \n",
        "print(c)\n",
        "c*=a\n",
        "print(c)\n",
        "c/=a\n",
        "print(c)\n",
        "c//=a\n",
        "print(c)\n",
        "c**=a\n",
        "print(c)"
      ],
      "metadata": {
        "colab": {
          "base_uri": "https://localhost:8080/"
        },
        "id": "075m-ql-nMll",
        "outputId": "5d69899f-4a72-40cb-fc4d-0abe0ee9166d"
      },
      "execution_count": null,
      "outputs": [
        {
          "output_type": "stream",
          "name": "stdout",
          "text": [
            "15\n",
            "5\n",
            "50\n",
            "5.0\n",
            "0.0\n",
            "0.0\n"
          ]
        }
      ]
    },
    {
      "cell_type": "code",
      "source": [
        "#9 Comparision operators\n",
        "\n",
        "a=int(input(\"Enter first integer\"))\n",
        "b=int(input(\"Enter Second integer\"))\n",
        "\n",
        "print(a==b)\n",
        "print(a<=b)\n",
        "print(a>=b)\n",
        "print(a<<b)\n",
        "print(a>>b)\n",
        "print(a!=b) "
      ],
      "metadata": {
        "colab": {
          "base_uri": "https://localhost:8080/"
        },
        "id": "lnOTtOZtndF-",
        "outputId": "644b117d-e350-4b7b-ce26-8c38da4f1bad"
      },
      "execution_count": null,
      "outputs": [
        {
          "output_type": "stream",
          "name": "stdout",
          "text": [
            "Enter first integer10\n",
            "Enter Second integer10\n",
            "True\n",
            "True\n",
            "True\n",
            "10240\n",
            "0\n",
            "False\n"
          ]
        }
      ]
    },
    {
      "cell_type": "code",
      "source": [
        "#10 logical operators\n",
        "x=True\n",
        "y=False\n",
        "print(\"x and y is:\",x and y)\n",
        "print(\"x or y is:\",x or y)\n",
        "print(\"not y is:\",not y)"
      ],
      "metadata": {
        "colab": {
          "base_uri": "https://localhost:8080/"
        },
        "id": "d7de7FaMo4JQ",
        "outputId": "1218bfb7-594d-4370-c398-f1a3a7386714"
      },
      "execution_count": null,
      "outputs": [
        {
          "output_type": "stream",
          "name": "stdout",
          "text": [
            "x and y is: False\n",
            "x or y is: True\n",
            "not y is: True\n"
          ]
        }
      ]
    },
    {
      "cell_type": "code",
      "source": [
        "#11 bitwise operators\n",
        "a=12\n",
        "b=14\n",
        "\n",
        "print(a&b) #AND\n",
        "print(a|b) #OR\n",
        "print(~a) #NOT\n",
        "print(a^b) #XOR\n",
        "print(a>>2) #leftshift\n",
        "print(a<<2) #rightshift"
      ],
      "metadata": {
        "colab": {
          "base_uri": "https://localhost:8080/"
        },
        "id": "c4vpLj91pDkK",
        "outputId": "4b88a2cd-d022-4b04-8133-bdcf9e9a9dda"
      },
      "execution_count": null,
      "outputs": [
        {
          "output_type": "stream",
          "name": "stdout",
          "text": [
            "12\n",
            "14\n",
            "-13\n",
            "2\n",
            "3\n",
            "48\n"
          ]
        }
      ]
    },
    {
      "cell_type": "code",
      "source": [
        "#12 membership operators\n",
        "x=\"hello world\"\n",
        "print(\"w\" in x)\n",
        "print(\"t\" not in x)"
      ],
      "metadata": {
        "colab": {
          "base_uri": "https://localhost:8080/"
        },
        "id": "NB8fUgxfpTI2",
        "outputId": "568f5beb-8eb3-4222-91cb-1dbb124965bd"
      },
      "execution_count": null,
      "outputs": [
        {
          "output_type": "stream",
          "name": "stdout",
          "text": [
            "True\n",
            "True\n"
          ]
        }
      ]
    },
    {
      "cell_type": "code",
      "source": [
        "#13 identity operators\n",
        "x1=4\n",
        "y1=5\n",
        "x2=\"meghana\"\n",
        "y2=\"meghana\"\n",
        "x3=[12,42,32]\n",
        "y3=[12,42,32]\n",
        "print(x1 is not y1)\n",
        "print(x2 is y2)\n",
        "print(x3 is y3)"
      ],
      "metadata": {
        "colab": {
          "base_uri": "https://localhost:8080/"
        },
        "id": "5bIcnON3pz-E",
        "outputId": "70d94780-0966-42f0-837e-ffcc8caa026b"
      },
      "execution_count": null,
      "outputs": [
        {
          "output_type": "stream",
          "name": "stdout",
          "text": [
            "True\n",
            "True\n",
            "False\n"
          ]
        }
      ]
    },
    {
      "cell_type": "code",
      "source": [
        "#14 negative indexing for list and applying slicing\n",
        "t1 = [9,7,5,3,10,2,8]\n",
        "print(t1[-1])\n",
        "print(t1[-4])\n",
        "print(t1[-1:-8:-2])"
      ],
      "metadata": {
        "colab": {
          "base_uri": "https://localhost:8080/"
        },
        "id": "oVT84dVVUx7b",
        "outputId": "ff8cc2ac-4c81-406d-e82c-c04ee5089609"
      },
      "execution_count": 4,
      "outputs": [
        {
          "output_type": "stream",
          "name": "stdout",
          "text": [
            "8\n",
            "3\n",
            "[8, 10, 5, 9]\n"
          ]
        }
      ]
    },
    {
      "cell_type": "code",
      "source": [
        "#15\n",
        "print('A series of characters designated as one object known as a string'[::-1][4::3])\n",
        "print('-----------------------')\n",
        "print('Welcome to Pyhton traing program'[3:10][::-1])"
      ],
      "metadata": {
        "id": "vbao0nucp9Xl",
        "colab": {
          "base_uri": "https://localhost:8080/"
        },
        "outputId": "e71c91df-5301-4fb2-a2fa-dafcec878d9a"
      },
      "execution_count": null,
      "outputs": [
        {
          "output_type": "stream",
          "name": "stdout",
          "text": [
            "taawkcbe  tgestrcoeeA\n",
            "-----------------------\n",
            "ot emoc\n"
          ]
        }
      ]
    },
    {
      "cell_type": "code",
      "source": [
        "#16 \n",
        "p_phrase=\"was it a car or a cat I saw\"\n",
        "print(p_phrase[::-1].upper())\n"
      ],
      "metadata": {
        "id": "jNm28OsJrOT-",
        "colab": {
          "base_uri": "https://localhost:8080/"
        },
        "outputId": "a6cbe63f-18e8-4b08-8d67-9c8e1ced4cf5"
      },
      "execution_count": null,
      "outputs": [
        {
          "output_type": "stream",
          "name": "stdout",
          "text": [
            "WAS I TAC A RO RAC A TI SAW\n"
          ]
        }
      ]
    },
    {
      "cell_type": "code",
      "source": [
        "#17 ZOO\n",
        "x=int(input(\"Enter an integer\")) \n",
        "y=2*x\n",
        "print('Z'*x+'O'*y) "
      ],
      "metadata": {
        "colab": {
          "base_uri": "https://localhost:8080/"
        },
        "id": "j5V35CCwr5B3",
        "outputId": "237f04aa-9fc7-4ae3-eeb2-67670e573be4"
      },
      "execution_count": null,
      "outputs": [
        {
          "output_type": "stream",
          "name": "stdout",
          "text": [
            "Enter an integer3\n",
            "ZZZOOOOOO\n"
          ]
        }
      ]
    },
    {
      "cell_type": "code",
      "source": [],
      "metadata": {
        "id": "mMhePbmWr6c2"
      },
      "execution_count": null,
      "outputs": []
    }
  ]
}
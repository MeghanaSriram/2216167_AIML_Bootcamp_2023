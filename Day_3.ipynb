{
  "nbformat": 4,
  "nbformat_minor": 0,
  "metadata": {
    "colab": {
      "provenance": [],
      "authorship_tag": "ABX9TyPKjTpmA7nPx82P/6OxZydI",
      "include_colab_link": true
    },
    "kernelspec": {
      "name": "python3",
      "display_name": "Python 3"
    },
    "language_info": {
      "name": "python"
    }
  },
  "cells": [
    {
      "cell_type": "markdown",
      "metadata": {
        "id": "view-in-github",
        "colab_type": "text"
      },
      "source": [
        "<a href=\"https://colab.research.google.com/github/MeghanaSriram/2216167_AIML_Bootcamp_2023/blob/main/Day_3.ipynb\" target=\"_parent\"><img src=\"https://colab.research.google.com/assets/colab-badge.svg\" alt=\"Open In Colab\"/></a>"
      ]
    },
    {
      "cell_type": "code",
      "execution_count": null,
      "metadata": {
        "colab": {
          "base_uri": "https://localhost:8080/"
        },
        "id": "1s8_akX5MgzY",
        "outputId": "a47f59b9-9c91-4d87-c0cd-ef684d03cf4e"
      },
      "outputs": [
        {
          "output_type": "stream",
          "name": "stdout",
          "text": [
            "5\n",
            "2\n",
            "1\n",
            "4\n",
            "1\n",
            "5\n"
          ]
        }
      ],
      "source": [
        "#tuples\n",
        "my_tup=(1,2,3,4,2)\n",
        "my_tup1=(\"hi\",1.1,5)\n",
        "\n",
        "N_tup=(\"Hello\",my_tup,my_tup1)\n",
        "\n",
        "print(N_tup[-1][-1])\n",
        "\n",
        "#tuple methods\n",
        "\n",
        "print(my_tup.count(2))\n",
        "print(my_tup.index(2))\n",
        "print(max(my_tup))\n",
        "print(min(my_tup))\n",
        "print(len(my_tup))"
      ]
    },
    {
      "cell_type": "code",
      "source": [
        "#sets\n",
        "s1={1,2,3,4}\n",
        "s2={1,2.0,\"hi\"}\n",
        "\n",
        "l={1,3,5,7}\n",
        "print(l)\n",
        "s3=set(l)\n",
        "print(s3)\n",
        "\n",
        "#set methods\n",
        "s1.add(5)\n",
        "print(s1)\n",
        "\n",
        "s1.update([7,8])\n",
        "print(s1)\n",
        "\n",
        "s1.discard(3) \n",
        "print(s1)\n",
        "\n",
        "s1.remove(4)"
      ],
      "metadata": {
        "colab": {
          "base_uri": "https://localhost:8080/"
        },
        "id": "fPkEKK6VNfSG",
        "outputId": "8a5560c6-4560-4a42-d06b-22fb95194d65"
      },
      "execution_count": 1,
      "outputs": [
        {
          "output_type": "stream",
          "name": "stdout",
          "text": [
            "{1, 3, 5, 7}\n",
            "{1, 3, 5, 7}\n",
            "{1, 2, 3, 4, 5}\n",
            "{1, 2, 3, 4, 5, 7, 8}\n",
            "{1, 2, 4, 5, 7, 8}\n"
          ]
        }
      ]
    },
    {
      "cell_type": "code",
      "source": [
        "#set operation\n",
        "a={1,3,4,5}\n",
        "b={5,0,2,4}\n",
        "\n",
        "#union\n",
        "print(a|b)\n",
        "print(a.union(b))\n",
        "print(b.union(a))\n",
        "\n",
        "#intersection\n",
        "print(a&b)\n",
        "print(b.intersection(a))\n",
        "print(a.intersection(b))\n",
        "\n",
        "#difference\n",
        "print(a.difference(b))\n",
        "print(b.difference(a))"
      ],
      "metadata": {
        "colab": {
          "base_uri": "https://localhost:8080/"
        },
        "id": "n-Ti7g-Gfwwf",
        "outputId": "d70798fe-e9c1-4f0e-fbb5-bf0a5fdc48e4"
      },
      "execution_count": 5,
      "outputs": [
        {
          "output_type": "stream",
          "name": "stdout",
          "text": [
            "{0, 1, 2, 3, 4, 5}\n",
            "{0, 1, 2, 3, 4, 5}\n",
            "{0, 1, 2, 3, 4, 5}\n",
            "{4, 5}\n",
            "{4, 5}\n",
            "{4, 5}\n",
            "{1, 3}\n",
            "{0, 2}\n"
          ]
        }
      ]
    },
    {
      "cell_type": "code",
      "source": [
        "set1={2,8}\n",
        "set2={2,7}\n",
        "set3={2,10}\n",
        "a=[1,2,3]\n",
        "b=set(a)\n",
        "b\n",
        "c=list(set1)\n",
        "d=list(set2)\n",
        "e=list(set3)\n",
        "print(c,d,e)"
      ],
      "metadata": {
        "colab": {
          "base_uri": "https://localhost:8080/"
        },
        "id": "O32vJsG0N3F-",
        "outputId": "e2d005ae-84d5-45dd-8077-e3745cda606e"
      },
      "execution_count": null,
      "outputs": [
        {
          "output_type": "stream",
          "name": "stdout",
          "text": [
            "[8, 2] [2, 7] [2, 10]\n"
          ]
        }
      ]
    },
    {
      "cell_type": "code",
      "source": [
        "#dictionaries\n",
        "d1={\"name\":\"Meghana\",2:'english'}\n",
        "print(d1['name'],d1[2])"
      ],
      "metadata": {
        "colab": {
          "base_uri": "https://localhost:8080/"
        },
        "id": "7JWYrbDhOiK-",
        "outputId": "369a06b5-f4d1-4eba-b940-02de00cba411"
      },
      "execution_count": null,
      "outputs": [
        {
          "output_type": "stream",
          "name": "stdout",
          "text": [
            "Meghana english\n"
          ]
        }
      ]
    },
    {
      "cell_type": "code",
      "source": [
        "print('A series of characters designated as one object known as a string'[::-1][4::3])\n",
        "print('-----------------------')\n",
        "print('Welcome to Pyhton traing program'[3:10][::-1])"
      ],
      "metadata": {
        "colab": {
          "base_uri": "https://localhost:8080/"
        },
        "id": "muQzVZd7TdAQ",
        "outputId": "042f4aae-3b99-4731-f11c-ddb2700f9230"
      },
      "execution_count": null,
      "outputs": [
        {
          "output_type": "stream",
          "name": "stdout",
          "text": [
            "taawkcbe  tgestrcoeeA\n",
            "-----------------------\n",
            "ot emoc\n"
          ]
        }
      ]
    },
    {
      "cell_type": "code",
      "source": [
        "pp=\"was it a car or a cat I saw\"\n",
        "print(pp[::-1].upper())"
      ],
      "metadata": {
        "colab": {
          "base_uri": "https://localhost:8080/"
        },
        "id": "8d3fpNYUT_PQ",
        "outputId": "4b951c74-4b2f-492f-d610-19fcf390a212"
      },
      "execution_count": null,
      "outputs": [
        {
          "output_type": "stream",
          "name": "stdout",
          "text": [
            "WAS I TAC A RO RAC A TI SAW\n"
          ]
        }
      ]
    },
    {
      "cell_type": "code",
      "source": [
        "def genStr(x):\n",
        "    print('Z'*x+'O'*2*x)\n",
        "    \n",
        "genStr(int(input()))   "
      ],
      "metadata": {
        "colab": {
          "base_uri": "https://localhost:8080/"
        },
        "id": "RfO6-3o9WO3P",
        "outputId": "0459248f-1fe4-4510-a1b2-35fc766c7db4"
      },
      "execution_count": null,
      "outputs": [
        {
          "output_type": "stream",
          "name": "stdout",
          "text": [
            "2\n",
            "ZZOOOO\n"
          ]
        }
      ]
    },
    {
      "cell_type": "code",
      "source": [
        "#decimal to binary\n",
        "x=42\n",
        "print(bin(x))\n",
        "print(hex(x))\n",
        "print(oct(x))"
      ],
      "metadata": {
        "colab": {
          "base_uri": "https://localhost:8080/"
        },
        "id": "uUD3r7YDWwZj",
        "outputId": "5411e72e-52bf-4691-e9f0-5cc6ebc0f6a3"
      },
      "execution_count": null,
      "outputs": [
        {
          "output_type": "stream",
          "name": "stdout",
          "text": [
            "0b101010\n",
            "0x2a\n",
            "0o52\n"
          ]
        }
      ]
    },
    {
      "cell_type": "code",
      "source": [
        "x='A'\n",
        "y=66\n",
        "print(ord(x))\n",
        "print(chr(y))"
      ],
      "metadata": {
        "colab": {
          "base_uri": "https://localhost:8080/"
        },
        "id": "ncdyttVGZHkQ",
        "outputId": "8fbba643-5ae2-4cd8-9604-27403863a643"
      },
      "execution_count": null,
      "outputs": [
        {
          "output_type": "stream",
          "name": "stdout",
          "text": [
            "65\n",
            "B\n"
          ]
        }
      ]
    }
  ]
}
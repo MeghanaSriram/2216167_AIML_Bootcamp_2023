{
  "nbformat": 4,
  "nbformat_minor": 0,
  "metadata": {
    "colab": {
      "provenance": [],
      "authorship_tag": "ABX9TyOPMzZIEKQOTiWgMWoG7n8+",
      "include_colab_link": true
    },
    "kernelspec": {
      "name": "python3",
      "display_name": "Python 3"
    },
    "language_info": {
      "name": "python"
    }
  },
  "cells": [
    {
      "cell_type": "markdown",
      "metadata": {
        "id": "view-in-github",
        "colab_type": "text"
      },
      "source": [
        "<a href=\"https://colab.research.google.com/github/MeghanaSriram/2216167_AIML_Bootcamp_2023/blob/main/Day_4.ipynb\" target=\"_parent\"><img src=\"https://colab.research.google.com/assets/colab-badge.svg\" alt=\"Open In Colab\"/></a>"
      ]
    },
    {
      "cell_type": "code",
      "execution_count": 1,
      "metadata": {
        "colab": {
          "base_uri": "https://localhost:8080/"
        },
        "id": "HmY96oTndZMQ",
        "outputId": "8a88d4c6-2247-453b-f371-7f5b6e68c07d"
      },
      "outputs": [
        {
          "output_type": "stream",
          "name": "stdout",
          "text": [
            "TRUE\n",
            "100\n",
            "false\n",
            "Enter age:19\n",
            "full ticket\n"
          ]
        }
      ],
      "source": [
        "#decision making\n",
        "\n",
        "#if statement\n",
        "var=100\n",
        "if var>0:\n",
        "  print(\"TRUE\")\n",
        "  print(var)\n",
        "\n",
        "#if-else statment\n",
        "var=-1\n",
        "if var>0:\n",
        "  print(\"true\")\n",
        "else:\n",
        "  print(\"false\")\n",
        "\n",
        "#nested if statements\n",
        "age=int(input(\"Enter age:\"))\n",
        "\n",
        "if age>0:\n",
        "  if age>0 and age<=2:\n",
        "    print(\"free ticket\")\n",
        "  elif age>2 and age<15:\n",
        "    print(\"Half ticket\")\n",
        "  elif age>=15 and age<60:\n",
        "    print(\"full ticket\")\n",
        "  elif age>=60:\n",
        "    print(\"discounted ticket\")\n"
      ]
    },
    {
      "cell_type": "code",
      "source": [
        "#loops\n",
        "numbers=[1,2,3,4,5,6,7,8,9,10]\n",
        "for i in range(1,11,2):\n",
        "  print(i)"
      ],
      "metadata": {
        "colab": {
          "base_uri": "https://localhost:8080/"
        },
        "id": "0PlTPngMdp7J",
        "outputId": "4fef2f9b-ffef-4236-9d64-8895d3fee33c"
      },
      "execution_count": null,
      "outputs": [
        {
          "output_type": "stream",
          "name": "stdout",
          "text": [
            "1\n",
            "3\n",
            "5\n",
            "7\n",
            "9\n"
          ]
        }
      ]
    },
    {
      "cell_type": "code",
      "source": [
        "#while loop\n",
        "count=1\n",
        "while count<11:\n",
        "  print(count,end=\" \")\n",
        "  count=count+1\n"
      ],
      "metadata": {
        "colab": {
          "base_uri": "https://localhost:8080/"
        },
        "id": "Fyo99oSCiF7t",
        "outputId": "fae9068b-80b0-42f9-ec15-a91e0d1ad5e3"
      },
      "execution_count": null,
      "outputs": [
        {
          "output_type": "stream",
          "name": "stdout",
          "text": [
            "1 2 3 4 5 6 7 8 9 10 "
          ]
        }
      ]
    },
    {
      "cell_type": "code",
      "source": [
        "#nested loop\n",
        "\n",
        "#nested for\n",
        "x=[[1,7,8],[2,3,4],[9,8,3]]\n",
        "y=[[1,2,3],[4,5,6],[5,3,2]]\n",
        "res=[[0,0,0],[0,0,0],[0,0,0]]\n",
        "\n",
        "for i in range(len(x)):\n",
        "  for j in range(len(x[0])):\n",
        "    res[i][j]=x[i][j]+y[i][j]\n",
        "for r in res:\n",
        "  print(r)"
      ],
      "metadata": {
        "colab": {
          "base_uri": "https://localhost:8080/"
        },
        "id": "gD3Tft8qije0",
        "outputId": "d71c2d25-9c25-4c92-9851-afa672c4c12e"
      },
      "execution_count": null,
      "outputs": [
        {
          "output_type": "stream",
          "name": "stdout",
          "text": [
            "[2, 9, 11]\n",
            "[6, 8, 10]\n",
            "[14, 11, 5]\n"
          ]
        }
      ]
    },
    {
      "cell_type": "code",
      "source": [
        "#nested while loop\n",
        "n=int(input(\"Enter until which table you need\"))\n",
        "i=1\n",
        "while i<=n:\n",
        "  print(f\"table {i}\")\n",
        "  j=1\n",
        "  while j<=10:\n",
        "    print(f\"{i}*{j}={i*j}\")\n",
        "    j=j+1\n",
        "  print(\"__________________\")\n",
        "  i=i+1"
      ],
      "metadata": {
        "colab": {
          "base_uri": "https://localhost:8080/"
        },
        "id": "OLC9v7v_kjvt",
        "outputId": "8dec7460-301f-4206-adfd-552414435208"
      },
      "execution_count": null,
      "outputs": [
        {
          "output_type": "stream",
          "name": "stdout",
          "text": [
            "Enter until which table you need7\n",
            "table 1\n",
            "1*1=1\n",
            "1*2=2\n",
            "1*3=3\n",
            "1*4=4\n",
            "1*5=5\n",
            "1*6=6\n",
            "1*7=7\n",
            "1*8=8\n",
            "1*9=9\n",
            "1*10=10\n",
            "__________________\n",
            "table 2\n",
            "2*1=2\n",
            "2*2=4\n",
            "2*3=6\n",
            "2*4=8\n",
            "2*5=10\n",
            "2*6=12\n",
            "2*7=14\n",
            "2*8=16\n",
            "2*9=18\n",
            "2*10=20\n",
            "__________________\n",
            "table 3\n",
            "3*1=3\n",
            "3*2=6\n",
            "3*3=9\n",
            "3*4=12\n",
            "3*5=15\n",
            "3*6=18\n",
            "3*7=21\n",
            "3*8=24\n",
            "3*9=27\n",
            "3*10=30\n",
            "__________________\n",
            "table 4\n",
            "4*1=4\n",
            "4*2=8\n",
            "4*3=12\n",
            "4*4=16\n",
            "4*5=20\n",
            "4*6=24\n",
            "4*7=28\n",
            "4*8=32\n",
            "4*9=36\n",
            "4*10=40\n",
            "__________________\n",
            "table 5\n",
            "5*1=5\n",
            "5*2=10\n",
            "5*3=15\n",
            "5*4=20\n",
            "5*5=25\n",
            "5*6=30\n",
            "5*7=35\n",
            "5*8=40\n",
            "5*9=45\n",
            "5*10=50\n",
            "__________________\n",
            "table 6\n",
            "6*1=6\n",
            "6*2=12\n",
            "6*3=18\n",
            "6*4=24\n",
            "6*5=30\n",
            "6*6=36\n",
            "6*7=42\n",
            "6*8=48\n",
            "6*9=54\n",
            "6*10=60\n",
            "__________________\n",
            "table 7\n",
            "7*1=7\n",
            "7*2=14\n",
            "7*3=21\n",
            "7*4=28\n",
            "7*5=35\n",
            "7*6=42\n",
            "7*7=49\n",
            "7*8=56\n",
            "7*9=63\n",
            "7*10=70\n",
            "__________________\n"
          ]
        }
      ]
    },
    {
      "cell_type": "code",
      "source": [
        "#control statements\n",
        "\n",
        "#break\n",
        "for q in \"Hello world\":\n",
        "  if q==\"l\":\n",
        "    break\n",
        "  print(q,end=\"\")\n",
        "print(\"\\n\")\n",
        "#continue\n",
        "for q in \"Hello world\":\n",
        "  if q==\"h\":\n",
        "    continue\n",
        "  print(q,end=\"\")\n",
        "print(\"\\n\")\n",
        "#pass\n",
        "for q in \"hello world\":\n",
        "  if q==\"h\":\n",
        "    pass\n",
        "    print(\"this is a pass block\")\n",
        "  print(q,end=\"\")"
      ],
      "metadata": {
        "colab": {
          "base_uri": "https://localhost:8080/"
        },
        "id": "XBxIoqAMlLCd",
        "outputId": "74ff3365-c380-4105-a071-1e9151e35406"
      },
      "execution_count": null,
      "outputs": [
        {
          "output_type": "stream",
          "name": "stdout",
          "text": [
            "He\n",
            "\n",
            "Hello world\n",
            "\n",
            "this is a pass block\n",
            "hello world"
          ]
        }
      ]
    },
    {
      "cell_type": "code",
      "source": [
        "#functions\n",
        "\n",
        "def greet(word):\n",
        "  '''this function greets a person'''\n",
        "  print(\"hello, \\t\"+word +\"\\t good morning\")\n",
        "greet(\"sir\")"
      ],
      "metadata": {
        "colab": {
          "base_uri": "https://localhost:8080/"
        },
        "id": "C_PcNJICm6ng",
        "outputId": "2b82cd99-fd03-4565-e9c9-87d5bd5917f1"
      },
      "execution_count": null,
      "outputs": [
        {
          "output_type": "stream",
          "name": "stdout",
          "text": [
            "hello \tsir\t good morning\n"
          ]
        }
      ]
    },
    {
      "cell_type": "code",
      "source": [
        "#default \n",
        "def A(a,b=1,c=2):\n",
        "  return a+b+c\n",
        "\n",
        "print(A(3))\n",
        "print(A(4,4,4))"
      ],
      "metadata": {
        "colab": {
          "base_uri": "https://localhost:8080/"
        },
        "id": "pz6sIeVvorjN",
        "outputId": "0216b546-c036-48bb-d406-b09b87b3098b"
      },
      "execution_count": null,
      "outputs": [
        {
          "output_type": "stream",
          "name": "stdout",
          "text": [
            "6\n",
            "12\n"
          ]
        }
      ]
    },
    {
      "cell_type": "code",
      "source": [
        "#keyword\n",
        "def A(a,b=1,c=2):\n",
        "  return a+b+c\n",
        "\n",
        "print(A(a=2,b=3))\n",
        "print(A(c=3,a=1,b=2))"
      ],
      "metadata": {
        "colab": {
          "base_uri": "https://localhost:8080/"
        },
        "id": "v8rdDvNSo-1-",
        "outputId": "ab569a49-fe9e-4947-d4e3-1f25e8af6d95"
      },
      "execution_count": null,
      "outputs": [
        {
          "output_type": "stream",
          "name": "stdout",
          "text": [
            "7\n",
            "6\n"
          ]
        }
      ]
    },
    {
      "cell_type": "code",
      "source": [
        "#positional\n",
        "def A(a,b,c):\n",
        "  return a+b+c\n",
        "\n",
        "print(A(10,20,30))"
      ],
      "metadata": {
        "colab": {
          "base_uri": "https://localhost:8080/"
        },
        "id": "GQCZ8ZkrpQ3C",
        "outputId": "fd2303bc-7220-4f07-a87c-60c83e9f9d00"
      },
      "execution_count": null,
      "outputs": [
        {
          "output_type": "stream",
          "name": "stdout",
          "text": [
            "60\n"
          ]
        }
      ]
    },
    {
      "cell_type": "code",
      "source": [
        "#arbitrary positional\n",
        "def add_num(*n):\n",
        "  print(sum(n))\n",
        "\n",
        "add_num(1,3,4,5,6,7,8,9,10)"
      ],
      "metadata": {
        "colab": {
          "base_uri": "https://localhost:8080/"
        },
        "id": "tbodvbYApaqR",
        "outputId": "268df1f1-57a4-434a-fc63-048b6dda9640"
      },
      "execution_count": null,
      "outputs": [
        {
          "output_type": "stream",
          "name": "stdout",
          "text": [
            "53\n"
          ]
        }
      ]
    },
    {
      "cell_type": "code",
      "source": [
        "#arbitrary keywords\n",
        "def key_args(**kwargs):\n",
        "  return kwargs\n",
        "\n",
        "m_d=key_args(Apples=30,Banana=40,Cherries=50)\n",
        "print(m_d['Apples'])\n",
        "print(m_d)"
      ],
      "metadata": {
        "colab": {
          "base_uri": "https://localhost:8080/"
        },
        "id": "sTXQc0OOphGi",
        "outputId": "ff6804cf-e9e9-4158-9f72-51dec6d61171"
      },
      "execution_count": null,
      "outputs": [
        {
          "output_type": "stream",
          "name": "stdout",
          "text": [
            "30\n",
            "{'Apples': 30, 'Banana': 40, 'Cherries': 50}\n"
          ]
        }
      ]
    },
    {
      "cell_type": "code",
      "source": [
        "#higher order functions\n",
        "def shout(text):\n",
        "  return text.upper()\n",
        "\n",
        "def whisper(text):\n",
        "  return text.lower()\n",
        "\n",
        "def explain(func):\n",
        "  print(func(\"Hello! I am learning python along with GradStellar\"))\n",
        "\n",
        "explain(shout)\n",
        "explain(whisper)"
      ],
      "metadata": {
        "colab": {
          "base_uri": "https://localhost:8080/"
        },
        "id": "du3_USxGqcdV",
        "outputId": "fd558dfc-7ce4-4e1c-cdeb-9f8fe792bd82"
      },
      "execution_count": 3,
      "outputs": [
        {
          "output_type": "stream",
          "name": "stdout",
          "text": [
            "HELLO! I AM LEARNING PYTHON ALONG WITH GRADSTELLAR\n",
            "hello! i am learning python along with gradstellar\n"
          ]
        }
      ]
    }
  ]
}
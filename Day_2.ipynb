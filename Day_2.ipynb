{
  "nbformat": 4,
  "nbformat_minor": 0,
  "metadata": {
    "colab": {
      "provenance": [],
      "authorship_tag": "ABX9TyMjFvc5K4PivZ4mayx2VleF",
      "include_colab_link": true
    },
    "kernelspec": {
      "name": "python3",
      "display_name": "Python 3"
    },
    "language_info": {
      "name": "python"
    }
  },
  "cells": [
    {
      "cell_type": "markdown",
      "metadata": {
        "id": "view-in-github",
        "colab_type": "text"
      },
      "source": [
        "<a href=\"https://colab.research.google.com/github/MeghanaSriram/2216167_AIML_Bootcamp_2023/blob/main/Day_2.ipynb\" target=\"_parent\"><img src=\"https://colab.research.google.com/assets/colab-badge.svg\" alt=\"Open In Colab\"/></a>"
      ]
    },
    {
      "cell_type": "code",
      "execution_count": 1,
      "metadata": {
        "colab": {
          "base_uri": "https://localhost:8080/"
        },
        "id": "TiMMKrEfd55l",
        "outputId": "2257929a-9b2c-4916-8b9f-b433b9c0a789"
      },
      "outputs": [
        {
          "output_type": "stream",
          "name": "stdout",
          "text": [
            "8\n",
            "2\n",
            "15\n",
            "1.6666666666666667\n",
            "1\n",
            "125\n"
          ]
        }
      ],
      "source": [
        "#Arithmatic operators\n",
        "\n",
        "a=5\n",
        "b=3\n",
        "\n",
        "print(a+b)\n",
        "print(a-b)\n",
        "print(a*b)\n",
        "print(a/b)\n",
        "print(a//b)\n",
        "print(a**b)"
      ]
    },
    {
      "cell_type": "code",
      "source": [
        "#comparision operators\n",
        "a==b\n",
        "a<=b\n",
        "a>=b\n",
        "a<<b\n",
        "a>>b\n",
        "a!=b "
      ],
      "metadata": {
        "colab": {
          "base_uri": "https://localhost:8080/"
        },
        "id": "93vGsX_ZeMYb",
        "outputId": "6cb3017c-5044-41ff-96a7-119616f25a10"
      },
      "execution_count": 2,
      "outputs": [
        {
          "output_type": "execute_result",
          "data": {
            "text/plain": [
              "True"
            ]
          },
          "metadata": {},
          "execution_count": 2
        }
      ]
    },
    {
      "cell_type": "code",
      "source": [
        "#assignment operators\n",
        "a=10\n",
        "b=5\n",
        "\n",
        "c=a+b\n",
        "c-=a\n",
        "c*=a\n",
        "c/=a\n",
        "c//=a\n",
        "c**=a"
      ],
      "metadata": {
        "id": "1JpwOOdfeNQJ"
      },
      "execution_count": 3,
      "outputs": []
    },
    {
      "cell_type": "code",
      "source": [
        "#logical operators\n",
        "x=True\n",
        "y=False\n",
        "print(\"x and y is:\",x and y)\n",
        "print(\"x or y is:\",x or y)\n",
        "print(\"not y is:\",not y)"
      ],
      "metadata": {
        "colab": {
          "base_uri": "https://localhost:8080/"
        },
        "id": "xq6d0LsMeSSu",
        "outputId": "d9277023-7154-433a-f3d8-9e0f7f8b96d5"
      },
      "execution_count": 4,
      "outputs": [
        {
          "output_type": "stream",
          "name": "stdout",
          "text": [
            "x and y is: False\n",
            "x or y is: True\n",
            "not y is: True\n"
          ]
        }
      ]
    },
    {
      "cell_type": "code",
      "source": [
        "#bitwise operators\n",
        "a=13\n",
        "b=14\n",
        "\n",
        "print(a&b) #and\n",
        "print(a|b) #or\n",
        "print(~a) #compliment\n",
        "print(a^b) #\n",
        "print(a>>2) #leftshift\n",
        "print(a<<2) #rightshift"
      ],
      "metadata": {
        "colab": {
          "base_uri": "https://localhost:8080/"
        },
        "id": "kOcPEzcQeT7q",
        "outputId": "2799fa4f-c3fa-47ab-dc7f-117a46221441"
      },
      "execution_count": 5,
      "outputs": [
        {
          "output_type": "stream",
          "name": "stdout",
          "text": [
            "12\n",
            "15\n",
            "-14\n",
            "3\n",
            "3\n",
            "52\n"
          ]
        }
      ]
    },
    {
      "cell_type": "code",
      "source": [
        "#membership operators\n",
        "x=\"hello world\"\n",
        "print(\"w\" in x)"
      ],
      "metadata": {
        "colab": {
          "base_uri": "https://localhost:8080/"
        },
        "id": "I48xZ7MbeZFz",
        "outputId": "c71918e8-b392-4597-9c81-e40d4a4b7286"
      },
      "execution_count": 6,
      "outputs": [
        {
          "output_type": "stream",
          "name": "stdout",
          "text": [
            "True\n"
          ]
        }
      ]
    },
    {
      "cell_type": "code",
      "source": [
        "#identity operators\n",
        "x1=5\n",
        "y1=5\n",
        "x2=\"hello\"\n",
        "y2=\"hello\"\n",
        "x3=[1,2,3]\n",
        "y3=[1,2,3]\n",
        "print(x1 is not y1)\n",
        "print(x2 is y2)\n",
        "print(x3 is y3)"
      ],
      "metadata": {
        "colab": {
          "base_uri": "https://localhost:8080/"
        },
        "id": "iZ0D49aOecSB",
        "outputId": "29390ef5-8e6f-41cd-ee36-50ef2ac7b104"
      },
      "execution_count": 7,
      "outputs": [
        {
          "output_type": "stream",
          "name": "stdout",
          "text": [
            "False\n",
            "True\n",
            "False\n"
          ]
        }
      ]
    },
    {
      "cell_type": "code",
      "source": [
        "a=int(input(\"enter a number\"))\n",
        "print(a)\n",
        "\n",
        "b=input(\"enter string\")\n",
        "print(b)"
      ],
      "metadata": {
        "colab": {
          "base_uri": "https://localhost:8080/"
        },
        "id": "DfzPyr5bedVu",
        "outputId": "16abc679-ef7c-495f-a553-2c7175934ea5"
      },
      "execution_count": 8,
      "outputs": [
        {
          "output_type": "stream",
          "name": "stdout",
          "text": [
            "enter a number42\n",
            "42\n",
            "enter stringmeghana\n",
            "meghana\n"
          ]
        }
      ]
    },
    {
      "cell_type": "code",
      "source": [
        "#strings\n",
        "\n",
        "str=\"Hello World\"\n",
        "\n",
        "#indexing\n",
        "print(str[0])\n",
        "print(str[-1])\n",
        "\n",
        "#slicing\n",
        "#from:to(n-1:2)\n",
        "print(str[0:7:2])\n",
        "\n",
        "#reverse string\n",
        "print(str[::-1])\n",
        "\n",
        "#string methods\n",
        "my_str = \" Iam Learning python \"\n",
        "print(my_str.upper())\n",
        "print(my_str.lower())\n",
        "print(my_str.rstrip())\n",
        "print(my_str.lstrip())"
      ],
      "metadata": {
        "colab": {
          "base_uri": "https://localhost:8080/"
        },
        "id": "n2Rb3exkeid2",
        "outputId": "942aeb5b-28e0-41c0-c8de-e74583570148"
      },
      "execution_count": 9,
      "outputs": [
        {
          "output_type": "stream",
          "name": "stdout",
          "text": [
            "H\n",
            "d\n",
            "HloW\n",
            "dlroW olleH\n",
            " IAM LEARNING PYTHON \n",
            " iam learning python \n",
            " Iam Learning python\n",
            "Iam Learning python \n"
          ]
        }
      ]
    },
    {
      "cell_type": "code",
      "source": [
        "#string formats\n",
        "name=\"Meghana\"\n",
        "Language=\"Python\"\n",
        "year=2023\n",
        "print(name,\"is learning\", Language,\"programming in\",year)\n",
        "\n",
        "#format\n",
        "print(\"{2} is learning {1} programming is {0}\".format(year,Language,name))\n",
        "\n",
        "#placeholder\n",
        "print(\"%s is learning %s programming in %d\"%(name,Language,year))\n",
        "\n",
        "#rawstring 'f'\n",
        "print(f\"{name} is learning {Language} programming in {year}\")"
      ],
      "metadata": {
        "colab": {
          "base_uri": "https://localhost:8080/"
        },
        "id": "zZBHxSIxejUR",
        "outputId": "6da209c9-f66d-40f3-e63f-ac0c5aa4bbae"
      },
      "execution_count": 10,
      "outputs": [
        {
          "output_type": "stream",
          "name": "stdout",
          "text": [
            "Meghana is learning Python programming in 2023\n",
            "Meghana is learning Python programming is 2023\n",
            "Meghana is learning Python programming in 2023\n",
            "Meghana is learning Python programming in 2023\n"
          ]
        }
      ]
    },
    {
      "cell_type": "code",
      "source": [
        "#lists\n",
        "my_list=[1,2,3,4]\n",
        "my_list1=[1,\"hello\",'3.0']\n",
        "my_list2=[\"apple\",'cherry',\"mango\"]\n",
        "\n",
        "#indexing\n",
        "print(my_list[2])\n",
        "print(my_list[-1])\n",
        "\n",
        "#slicing\n",
        "print(my_list[:3])\n",
        "\n",
        "#nested list\n",
        "N_list=[\"dragonfruit\",my_list,my_list[1]]\n",
        "\n",
        "print(N_list[0][0:6])\n",
        "\n",
        "#list method\n",
        "my_list.append(5)\n",
        "print(my_list)\n",
        "\n",
        "l1=[1,2,3,4,5,6,7,12,2,9]\n",
        "print(l1.count(4))\n",
        "print(len(l1))\n",
        "print(l1[::-1])\n",
        "\n",
        "l1.reverse()\n",
        "print(l1)\n",
        "\n",
        "l1.sort()\n",
        "print(l1)"
      ],
      "metadata": {
        "colab": {
          "base_uri": "https://localhost:8080/"
        },
        "id": "g_wkhepfemWB",
        "outputId": "f2f2eea8-0db2-4a64-bac4-06212acdb730"
      },
      "execution_count": 11,
      "outputs": [
        {
          "output_type": "stream",
          "name": "stdout",
          "text": [
            "3\n",
            "4\n",
            "[1, 2, 3]\n",
            "dragon\n",
            "[1, 2, 3, 4, 5]\n",
            "1\n",
            "10\n",
            "[9, 2, 12, 7, 6, 5, 4, 3, 2, 1]\n",
            "[9, 2, 12, 7, 6, 5, 4, 3, 2, 1]\n",
            "[1, 2, 2, 3, 4, 5, 6, 7, 9, 12]\n"
          ]
        }
      ]
    },
    {
      "cell_type": "code",
      "source": [
        "l1=[1,2,3,4] \n",
        "l2=l1\n",
        "l3=[1,2,3,4]\n",
        "\n",
        "print(l1==l2)\n",
        "print(l1==l3)\n",
        "\n",
        "print(id(l1),id(l2),id(l3))\n",
        "\n",
        "print(l1 is l2)\n",
        "print(l1 is l3)"
      ],
      "metadata": {
        "colab": {
          "base_uri": "https://localhost:8080/"
        },
        "id": "71ua3Xedeuta",
        "outputId": "c14f5d54-6722-4f2b-9dd9-868e5c1e4ff3"
      },
      "execution_count": 12,
      "outputs": [
        {
          "output_type": "stream",
          "name": "stdout",
          "text": [
            "True\n",
            "True\n",
            "140642454430528 140642454430528 140642454430016\n",
            "True\n",
            "False\n"
          ]
        }
      ]
    },
    {
      "cell_type": "code",
      "source": [
        "set1={2,8,5}\n",
        "a=[1,2,3]\n",
        "b=set(a)\n",
        "b\n",
        "c=list(set1)\n",
        "c"
      ],
      "metadata": {
        "colab": {
          "base_uri": "https://localhost:8080/"
        },
        "id": "lgWu8Rciexun",
        "outputId": "4c04da5f-d350-4fcc-cae7-86cc9c2cd457"
      },
      "execution_count": 13,
      "outputs": [
        {
          "output_type": "execute_result",
          "data": {
            "text/plain": [
              "[8, 2, 5]"
            ]
          },
          "metadata": {},
          "execution_count": 13
        }
      ]
    }
  ]
}